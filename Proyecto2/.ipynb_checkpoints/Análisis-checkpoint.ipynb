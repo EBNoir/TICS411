{
 "cells": [
  {
   "cell_type": "markdown",
   "id": "b1f98a6c",
   "metadata": {},
   "source": [
    "# Análisis de Métodos"
   ]
  },
  {
   "cell_type": "markdown",
   "id": "39f810bf",
   "metadata": {},
   "source": [
    "Integrantes: Erick Bey,\n",
    "Matias Orozco,\n",
    "Alvaro Parker"
   ]
  },
  {
   "cell_type": "code",
   "execution_count": null,
   "id": "584aacfa",
   "metadata": {},
   "outputs": [],
   "source": [
    "#conda install -c conda-forge plotnine"
   ]
  },
  {
   "cell_type": "code",
   "execution_count": 1,
   "id": "98c0789b",
   "metadata": {},
   "outputs": [],
   "source": [
    "import numpy as np\n",
    "import pandas as pd\n",
    "from plotnine import *"
   ]
  },
  {
   "cell_type": "markdown",
   "id": "380c0ad3",
   "metadata": {},
   "source": [
    "### Importar ALUMNOS-trainData.csv"
   ]
  },
  {
   "cell_type": "code",
   "execution_count": null,
   "id": "2ee1b7fe",
   "metadata": {},
   "outputs": [],
   "source": [
    "df_train = pd.read_csv(\"ALUMNOS-trainData.csv\")\n",
    "df.info()\n",
    "df"
   ]
  },
  {
   "cell_type": "code",
   "execution_count": 8,
   "id": "3b295bd6",
   "metadata": {},
   "outputs": [
    {
     "data": {
      "text/html": [
       "<div>\n",
       "<style scoped>\n",
       "    .dataframe tbody tr th:only-of-type {\n",
       "        vertical-align: middle;\n",
       "    }\n",
       "\n",
       "    .dataframe tbody tr th {\n",
       "        vertical-align: top;\n",
       "    }\n",
       "\n",
       "    .dataframe thead th {\n",
       "        text-align: right;\n",
       "    }\n",
       "</style>\n",
       "<table border=\"1\" class=\"dataframe\">\n",
       "  <thead>\n",
       "    <tr style=\"text-align: right;\">\n",
       "      <th></th>\n",
       "      <th>Unnamed: 0</th>\n",
       "      <th>date</th>\n",
       "      <th>fligth_number</th>\n",
       "      <th>origin</th>\n",
       "      <th>destination</th>\n",
       "      <th>distance</th>\n",
       "      <th>noshow</th>\n",
       "      <th>denied_boarding</th>\n",
       "      <th>pax_midlow</th>\n",
       "      <th>pax_high</th>\n",
       "      <th>...</th>\n",
       "      <th>pax_freqflyer</th>\n",
       "      <th>group_bookings</th>\n",
       "      <th>out_of_stock</th>\n",
       "      <th>dom_cnx</th>\n",
       "      <th>int_cnx</th>\n",
       "      <th>p2p</th>\n",
       "      <th>departure_time</th>\n",
       "      <th>capacity</th>\n",
       "      <th>revenues_usd</th>\n",
       "      <th>bookings</th>\n",
       "    </tr>\n",
       "  </thead>\n",
       "  <tbody>\n",
       "  </tbody>\n",
       "</table>\n",
       "<p>0 rows × 22 columns</p>\n",
       "</div>"
      ],
      "text/plain": [
       "Empty DataFrame\n",
       "Columns: [Unnamed: 0, date, fligth_number, origin, destination, distance, noshow, denied_boarding, pax_midlow, pax_high, pax_midhigh, pax_low, pax_freqflyer, group_bookings, out_of_stock, dom_cnx, int_cnx, p2p, departure_time, capacity, revenues_usd, bookings]\n",
       "Index: []\n",
       "\n",
       "[0 rows x 22 columns]"
      ]
     },
     "execution_count": 8,
     "metadata": {},
     "output_type": "execute_result"
    }
   ],
   "source": [
    "#Obtener si hay datos duplicados\n",
    "df[df.duplicated()]"
   ]
  },
  {
   "cell_type": "code",
   "execution_count": 11,
   "id": "6c60e06c",
   "metadata": {
    "scrolled": false
   },
   "outputs": [
    {
     "name": "stdout",
     "output_type": "stream",
     "text": [
      "|     |   noshow |\n",
      "|----:|---------:|\n",
      "|   4 |   103391 |\n",
      "|   3 |   102522 |\n",
      "|   5 |    97091 |\n",
      "|   2 |    95235 |\n",
      "|   6 |    86540 |\n",
      "|   1 |    75756 |\n",
      "|   7 |    74491 |\n",
      "|   0 |    71100 |\n",
      "|   8 |    61628 |\n",
      "|   9 |    49557 |\n",
      "|  10 |    40086 |\n",
      "|  11 |    31180 |\n",
      "|  12 |    24180 |\n",
      "|  13 |    18851 |\n",
      "|  14 |    14334 |\n",
      "|  15 |    11009 |\n",
      "|  16 |     8504 |\n",
      "|  17 |     6642 |\n",
      "|  18 |     5097 |\n",
      "|  19 |     3968 |\n",
      "|  20 |     3168 |\n",
      "|  21 |     2551 |\n",
      "|  22 |     2062 |\n",
      "|  23 |     1597 |\n",
      "|  24 |     1295 |\n",
      "|  25 |     1112 |\n",
      "|  26 |      867 |\n",
      "|  27 |      731 |\n",
      "|  28 |      624 |\n",
      "|  29 |      542 |\n",
      "|  30 |      461 |\n",
      "|  31 |      404 |\n",
      "|  32 |      337 |\n",
      "|  33 |      297 |\n",
      "|  34 |      267 |\n",
      "|  35 |      214 |\n",
      "|  36 |      202 |\n",
      "|  37 |      199 |\n",
      "|  39 |      159 |\n",
      "|  38 |      156 |\n",
      "|  40 |      129 |\n",
      "|  44 |      108 |\n",
      "|  41 |      105 |\n",
      "|  42 |      101 |\n",
      "|  43 |       88 |\n",
      "|  46 |       85 |\n",
      "|  45 |       63 |\n",
      "|  47 |       60 |\n",
      "|  48 |       50 |\n",
      "|  49 |       50 |\n",
      "|  53 |       50 |\n",
      "|  50 |       46 |\n",
      "|  51 |       43 |\n",
      "|  52 |       42 |\n",
      "|  56 |       35 |\n",
      "|  55 |       31 |\n",
      "|  58 |       28 |\n",
      "|  54 |       28 |\n",
      "|  60 |       28 |\n",
      "|  57 |       24 |\n",
      "|  59 |       23 |\n",
      "|  64 |       16 |\n",
      "|  62 |       16 |\n",
      "|  66 |       15 |\n",
      "|  68 |       15 |\n",
      "|  63 |       13 |\n",
      "|  65 |       12 |\n",
      "|  69 |       12 |\n",
      "|  67 |       10 |\n",
      "|  61 |        9 |\n",
      "|  71 |        9 |\n",
      "|  76 |        9 |\n",
      "|  78 |        8 |\n",
      "|  70 |        7 |\n",
      "|  72 |        7 |\n",
      "|  73 |        7 |\n",
      "|  77 |        7 |\n",
      "|  75 |        6 |\n",
      "|  80 |        5 |\n",
      "|  84 |        5 |\n",
      "|  88 |        4 |\n",
      "|  92 |        4 |\n",
      "|  79 |        4 |\n",
      "| 104 |        4 |\n",
      "|  86 |        4 |\n",
      "| 101 |        3 |\n",
      "|  83 |        3 |\n",
      "|  87 |        3 |\n",
      "|  85 |        3 |\n",
      "| 110 |        3 |\n",
      "|  74 |        3 |\n",
      "|  81 |        3 |\n",
      "|  82 |        3 |\n",
      "| 100 |        3 |\n",
      "|  91 |        3 |\n",
      "|  90 |        3 |\n",
      "| 102 |        2 |\n",
      "| 117 |        2 |\n",
      "|  95 |        2 |\n",
      "| 120 |        2 |\n",
      "| 109 |        2 |\n",
      "|  96 |        2 |\n",
      "| 126 |        1 |\n",
      "|  97 |        1 |\n",
      "| 146 |        1 |\n",
      "| 271 |        1 |\n",
      "| 177 |        1 |\n",
      "| 112 |        1 |\n",
      "| 106 |        1 |\n",
      "| 115 |        1 |\n",
      "|  93 |        1 |\n",
      "| 124 |        1 |\n",
      "| 105 |        1 |\n",
      "|  99 |        1 |\n",
      "| 108 |        1 |\n"
     ]
    }
   ],
   "source": [
    "print(df[\"noshow\"].value_counts().to_markdown())"
   ]
  },
  {
   "cell_type": "markdown",
   "id": "87bb1df0",
   "metadata": {},
   "source": [
    "# KNN\n",
    "\n",
    "**Modificaciones posibles:**\n",
    "* No aplicarle logaritmo a la columna `date_departure_time` (eso implica tener numeros enteros muy grandes).\n",
    "* Eliminar las columnas `origin` y `destinaton` (no se puede medir distancia con ellas)\n",
    "* Cambiar el argumento `n_neighbors`a un numero distinto cuando se llama a la funcion `KNeighborsClassifier()`"
   ]
  },
  {
   "cell_type": "code",
   "execution_count": 1,
   "id": "78bf9209",
   "metadata": {},
   "outputs": [],
   "source": [
    "import numpy as np\n",
    "import pandas as pd\n",
    "from plotnine import *\n",
    "from sklearn.model_selection import GridSearchCV\n",
    "from sklearn.neighbors import KNeighborsClassifier\n",
    "\n",
    "def procesar_csv(df):\n",
    "    from sklearn import preprocessing\n",
    "    # convertirmos las columnas origin y destination a variables numericas \n",
    "    le = preprocessing.LabelEncoder()\n",
    "    origin_as_int = le.fit_transform(df['origin'])\n",
    "    destination_as_int = le.fit_transform(df[\"destination\"])\n",
    "    \n",
    "    #df[\"origin_int\"] = origin_as_int\n",
    "    df.drop('origin', axis=1, inplace=True)\n",
    "    \n",
    "    #df[\"destination_int\"] = origin_as_int\n",
    "    df.drop('destination', axis=1, inplace=True)\n",
    "\n",
    "    # Cambiamos el formato del tiempo a unix time stamp para medir la distancia de forma mas facil.\n",
    "    df[\"date_departure_int\"] = np.log10(pd.to_datetime(df[\"date\"].map(str)+\" \"+df[\"departure_time\"]).apply(lambda x: x.value))\n",
    "    df.drop('departure_time', axis=1, inplace=True)\n",
    "    df.drop('date', axis=1, inplace=True)\n",
    "    # retornamos el data frame modificado sin valore nulos.\n",
    "    return df.dropna()"
   ]
  },
  {
   "cell_type": "code",
   "execution_count": 2,
   "id": "53548988",
   "metadata": {},
   "outputs": [
    {
     "name": "stderr",
     "output_type": "stream",
     "text": [
      "/Users/parker/Documents/jupy/lib/python3.8/site-packages/pandas/core/arraylike.py:397: RuntimeWarning: invalid value encountered in log10\n"
     ]
    }
   ],
   "source": [
    "# Leemos los datos\n",
    "df = pd.read_csv(\"ALUMNOS-trainData.csv\")\n",
    "# Procesamos los datos con la funcion procesar_csv()\n",
    "df = procesar_csv(df)\n",
    "# transformamos los datos a binarios\n",
    "df[\"nowshow\"] = np.where(df[\"noshow\"] >= 4, 1,0)\n",
    "# Definimos nuestra columna target\n",
    "target = df['nowshow']\n",
    "# La eliminamos del dataframe\n",
    "df.drop('noshow', axis=1, inplace=True)"
   ]
  },
  {
   "cell_type": "code",
   "execution_count": 3,
   "id": "41956e5a",
   "metadata": {},
   "outputs": [],
   "source": [
    "from sklearn.model_selection import train_test_split\n",
    "# Dividimos los data frames en test y train set\n",
    "X_train, X_test, y_train, y_test = train_test_split(df,target, test_size=0.33,random_state=42)"
   ]
  },
  {
   "cell_type": "markdown",
   "id": "97cd3dd3",
   "metadata": {},
   "source": [
    "### Encontrar los argumentos optimos usando GridSearchCV() "
   ]
  },
  {
   "cell_type": "code",
   "execution_count": null,
   "id": "7f71fb26",
   "metadata": {},
   "outputs": [],
   "source": [
    "# Esto va a tomar demasiado, por lo menos 1 dia xd\n",
    "k_range = list(range(1,10000))\n",
    "weight_options = [\"uniform\", \"distance\"]\n",
    "\n",
    "param_grid = dict(n_neighbors = k_range, weights = weight_options)\n",
    "\n",
    "\n",
    "knn = KNeighborsClassifier()\n",
    "\n",
    "grid = GridSearchCV(knn, param_grid, cv = 10, scoring = 'accuracy')\n",
    "grid.fit(X_train,y_train)\n",
    "\n",
    "print(grid.best_score_)\n",
    "print(grid.best_params_)\n",
    "print(grid.best_estimator_)"
   ]
  },
  {
   "cell_type": "markdown",
   "id": "8458dac4",
   "metadata": {},
   "source": [
    "### Implementar el KNN con los argumentos encontrados:"
   ]
  },
  {
   "cell_type": "code",
   "execution_count": 14,
   "id": "304032bc",
   "metadata": {},
   "outputs": [],
   "source": [
    "#Creando un objeto KNN con las condiciones iniciales\n",
    "from sklearn.neighbors import KNeighborsClassifier\n",
    "# Crear el objeto:\n",
    "KNN = KNeighborsClassifier(n_neighbors=1000,weights=\"uniform\")\n",
    "\n",
    "#Entrenando el modelo con los datos X_train\n",
    "KNN=KNN.fit(X_train,y_train)"
   ]
  },
  {
   "cell_type": "code",
   "execution_count": 15,
   "id": "310b91ec",
   "metadata": {},
   "outputs": [],
   "source": [
    "#Aplicando el modelo a otros datos\n",
    "\n",
    "# esta cell es la que mas demora \n",
    "\n",
    "# Reservamos memoria para la lista q se creara al usar KNN.predict()\n",
    "# si no hacemos esto, el uso de memoria ram aumenta considerablemente\n",
    "resultado = pd.Series(np.array([None]*len(y_test)))\n",
    "# predecimos usando nuestro X_test \n",
    "resultado=KNN.predict(X_test)\n"
   ]
  },
  {
   "cell_type": "code",
   "execution_count": 20,
   "id": "a9b27008",
   "metadata": {},
   "outputs": [],
   "source": [
    "from sklearn import metrics as mt\n",
    "# Evaluacion:\n",
    "accuracy = mt.accuracy_score(y_test, resultado)\n",
    "\n",
    "precicion_para_cero = mt.precision_score(y_test==0,resultado==0,pos_label=1,average=\"binary\")\n",
    "precicion_para_uno = mt.precision_score(y_test == 1, resultado == 1, pos_label=1, average=\"binary\")\n",
    "\n",
    "lista = mt.precision_score(y_test,resultado,labels=[0,1],average=None)\n",
    "\n",
    "recall_score = mt.recall_score(y_test, resultado, labels=None, pos_label=1, average = 'binary')\n",
    "\n",
    "f1_score = mt.f1_score(y_test, resultado, labels=None, pos_label=1, average = 'binary')"
   ]
  },
  {
   "cell_type": "code",
   "execution_count": 21,
   "id": "87f8ea2f",
   "metadata": {},
   "outputs": [
    {
     "name": "stdout",
     "output_type": "stream",
     "text": [
      "Accuracy: 0.660086920630296\n",
      "Precicion para 0: 0.6631508078994613\n",
      "Precicion para 1: 0.6600449175486094\n",
      "Recall score: 0.9930522768720896\n",
      "f1 Score: 0.7930073445429714\n"
     ]
    }
   ],
   "source": [
    "print(f\"Accuracy: {accuracy}\")\n",
    "print(f\"Precicion para 0: {precicion_para_cero}\")\n",
    "print(f\"Precicion para 1: {precicion_para_uno}\")\n",
    "print(f\"Recall score: {recall_score}\")\n",
    "print(f\"f1 Score: {f1_score}\")"
   ]
  }
 ],
 "metadata": {
  "kernelspec": {
   "display_name": "Python 3 (ipykernel)",
   "language": "python",
   "name": "python3"
  },
  "language_info": {
   "codemirror_mode": {
    "name": "ipython",
    "version": 3
   },
   "file_extension": ".py",
   "mimetype": "text/x-python",
   "name": "python",
   "nbconvert_exporter": "python",
   "pygments_lexer": "ipython3",
   "version": "3.8.9"
  }
 },
 "nbformat": 4,
 "nbformat_minor": 5
}
