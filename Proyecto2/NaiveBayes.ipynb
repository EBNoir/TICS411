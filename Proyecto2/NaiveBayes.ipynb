{
 "cells": [
  {
   "cell_type": "markdown",
   "id": "b3ce70c1",
   "metadata": {},
   "source": [
    "# NaiveBayes"
   ]
  },
  {
   "cell_type": "code",
   "execution_count": 1,
   "id": "78bf9209",
   "metadata": {},
   "outputs": [],
   "source": [
    "import numpy as np\n",
    "import pandas as pd\n",
    "from plotnine import *\n",
    "import seaborn as sns\n",
    "from sklearn.model_selection import GridSearchCV\n",
    "from sklearn.model_selection import KFold\n",
    "from sklearn.naive_bayes import GaussianNB\n",
    "from sklearn.naive_bayes import MultinomialNB\n",
    "from sklearn import metrics as mt\n",
    "import calendar\n",
    "\n",
    "def procesar_csv(df):\n",
    "    from sklearn import preprocessing\n",
    "    \n",
    "    # Convertirmos las columnas origin y destination a variables numericas \n",
    "    le = preprocessing.LabelEncoder()\n",
    "    ciudades = ((pd.concat([df['origin'], df['destination']], ignore_index = True).drop_duplicates()).reset_index())[0]\n",
    "    le.fit(ciudades)\n",
    "    \n",
    "    origin_as_int = le.fit_transform(df['origin'])\n",
    "    destination_as_int = le.fit_transform(df[\"destination\"])\n",
    "    \n",
    "    df[\"origin_int\"] = origin_as_int\n",
    "    df.drop('origin', axis=1, inplace=True)\n",
    "    \n",
    "    df[\"destination_int\"] = destination_as_int\n",
    "    df.drop('destination', axis=1, inplace=True)\n",
    "\n",
    "    # Transformamos Capacity a Nominal\n",
    "    bins = [0,100,200,300, 400]\n",
    "    labels = [1,2,3,4]\n",
    "    df['capacidad'] = pd.cut(df[\"capacity\"], bins, labels=labels, right=False)\n",
    "    df.drop('capacity', axis=1, inplace=True)\n",
    "\n",
    "    # Transformamos denied_boarding a Nominal\n",
    "    bins = [0,10,20,30,40,50]\n",
    "    labels = [1,2,3,4,5]\n",
    "    df['denied'] = pd.cut(df[\"denied_boarding\"], bins, labels=labels, right=False)\n",
    "    df.drop('denied_boarding', axis=1, inplace=True)\n",
    "    \n",
    "    # Transformamos Capacity a Nominal\n",
    "    bins = [0,100,200,300,400,500,600,700]\n",
    "    labels = [1,2,3,4,5,6,7]\n",
    "    df['booking'] = pd.cut(df[\"bookings\"], bins, labels=labels, right=False)\n",
    "    df.drop('bookings', axis=1, inplace=True)\n",
    "    \n",
    "    # Transformamos Columnas Continuas a Discretas\n",
    "    revenues_usd_discr = pd.qcut(df[\"revenues_usd\"], 10, [1,2,3,4,5,6,7,8,9,10] )\n",
    "    df[\"revenues_usd_discr\"] = revenues_usd_discr\n",
    "    df.drop('revenues_usd', axis=1, inplace=True)\n",
    "    \n",
    "    # Cambiamos el formato del date y departure_time para saber el mes de la compra y el horario en el que se compra\n",
    "    df[\"date\"] = pd.to_datetime(df[\"date\"], errors='coerce')\n",
    "    df[\"mes\"] = pd.DatetimeIndex(df[\"date\"]).month\n",
    "    \n",
    "    df.departure_time = pd.to_datetime(df.departure_time, errors='coerce')\n",
    "    bins = [0,12,18,24]\n",
    "    labels = [1,2,3]\n",
    "    df['horario'] = pd.cut(df[\"departure_time\"].dt.hour, bins, labels=labels, right=False)\n",
    "    \n",
    "    \n",
    "    df.drop('departure_time', axis=1, inplace=True)\n",
    "    df.drop('date', axis=1, inplace=True)\n",
    "    \n",
    "    # Eliminar columnas sin uso\n",
    "    df.drop('Unnamed: 0', axis=1, inplace=True)\n",
    "    \n",
    "    # retornamos el data frame modificado sin valore nulos.\n",
    "    return df.dropna()"
   ]
  },
  {
   "cell_type": "code",
   "execution_count": 10,
   "id": "53548988",
   "metadata": {
    "scrolled": false
   },
   "outputs": [
    {
     "data": {
      "text/plain": [
       "Index(['origin_int', 'destination_int', 'capacidad', 'denied', 'booking',\n",
       "       'revenues_usd_discr', 'mes', 'horario', 'Labels'],\n",
       "      dtype='object')"
      ]
     },
     "execution_count": 10,
     "metadata": {},
     "output_type": "execute_result"
    }
   ],
   "source": [
    "# Leemos los datos\n",
    "df = pd.read_csv(\"ALUMNOS-trainData.csv\")\n",
    "# Procesamos los datos con la funcion procesar_csv()\n",
    "df = procesar_csv(df)\n",
    "# transformamos los datos a binarios\n",
    "df[\"Labels\"] = np.where(df[\"noshow\"] >= 4, 1,0)\n",
    "# Definimos nuestra columna target\n",
    "target = df['Labels']\n",
    "# La eliminamos del dataframe\n",
    "df.drop('noshow', axis=1, inplace=True)\n",
    "\n",
    "df.drop('fligth_number', axis=1, inplace=True)\n",
    "df.drop('p2p', axis=1, inplace=True)\n",
    "df.drop('distance', axis=1, inplace=True)\n",
    "df.drop('pax_midlow', axis=1, inplace=True)\n",
    "df.drop('pax_high', axis=1, inplace=True)\n",
    "df.drop('pax_midhigh', axis=1, inplace=True)\n",
    "df.drop('pax_low', axis=1, inplace=True)\n",
    "df.drop('pax_freqflyer', axis=1, inplace=True)\n",
    "df.drop('group_bookings', axis=1, inplace=True)\n",
    "df.drop('out_of_stock', axis=1, inplace=True)\n",
    "df.drop('dom_cnx', axis=1, inplace=True)\n",
    "df.drop('int_cnx', axis=1, inplace=True)\n",
    "\n",
    "\n",
    "\n",
    "#Columnas despues de la limpieza\n",
    "df.columns"
   ]
  },
  {
   "cell_type": "code",
   "execution_count": 11,
   "id": "41a8ff44",
   "metadata": {
    "scrolled": false
   },
   "outputs": [
    {
     "name": "stdout",
     "output_type": "stream",
     "text": [
      "   booking\n",
      "2   557072\n",
      "3   218423\n",
      "1   189181\n",
      "4    29493\n",
      "5     3756\n",
      "6      536\n",
      "7        1\n"
     ]
    }
   ],
   "source": [
    "#display(df)\n",
    "#for i in df.columns:\n",
    "    #print(i)\n",
    "    #display(df[\"bookings\"].value_counts())\n",
    "    #display(df.hist(column = i, bins = 5, grid = False))\n",
    "with pd.option_context('display.max_rows', None, 'display.max_columns', None):  # more options can be specified also\n",
    "    print(df[\"booking\"].value_counts().to_frame())"
   ]
  },
  {
   "cell_type": "markdown",
   "id": "609502d2",
   "metadata": {},
   "source": [
    "display(df)\n",
    "for i in df.columns:\n",
    "    display(df[i].value_counts())\n",
    "    display(df[i].isna())"
   ]
  },
  {
   "cell_type": "code",
   "execution_count": 12,
   "id": "d9acc21a",
   "metadata": {},
   "outputs": [
    {
     "data": {
      "text/html": [
       "<div>\n",
       "<style scoped>\n",
       "    .dataframe tbody tr th:only-of-type {\n",
       "        vertical-align: middle;\n",
       "    }\n",
       "\n",
       "    .dataframe tbody tr th {\n",
       "        vertical-align: top;\n",
       "    }\n",
       "\n",
       "    .dataframe thead th {\n",
       "        text-align: right;\n",
       "    }\n",
       "</style>\n",
       "<table border=\"1\" class=\"dataframe\">\n",
       "  <thead>\n",
       "    <tr style=\"text-align: right;\">\n",
       "      <th></th>\n",
       "      <th>origin_int</th>\n",
       "      <th>destination_int</th>\n",
       "      <th>capacidad</th>\n",
       "      <th>denied</th>\n",
       "      <th>booking</th>\n",
       "      <th>revenues_usd_discr</th>\n",
       "      <th>mes</th>\n",
       "      <th>horario</th>\n",
       "      <th>Labels</th>\n",
       "    </tr>\n",
       "  </thead>\n",
       "  <tbody>\n",
       "    <tr>\n",
       "      <th>0</th>\n",
       "      <td>12</td>\n",
       "      <td>125</td>\n",
       "      <td>2</td>\n",
       "      <td>1</td>\n",
       "      <td>3</td>\n",
       "      <td>6</td>\n",
       "      <td>11</td>\n",
       "      <td>1</td>\n",
       "      <td>1</td>\n",
       "    </tr>\n",
       "    <tr>\n",
       "      <th>1</th>\n",
       "      <td>79</td>\n",
       "      <td>143</td>\n",
       "      <td>2</td>\n",
       "      <td>1</td>\n",
       "      <td>3</td>\n",
       "      <td>2</td>\n",
       "      <td>5</td>\n",
       "      <td>3</td>\n",
       "      <td>0</td>\n",
       "    </tr>\n",
       "    <tr>\n",
       "      <th>2</th>\n",
       "      <td>122</td>\n",
       "      <td>116</td>\n",
       "      <td>3</td>\n",
       "      <td>1</td>\n",
       "      <td>1</td>\n",
       "      <td>8</td>\n",
       "      <td>5</td>\n",
       "      <td>1</td>\n",
       "      <td>1</td>\n",
       "    </tr>\n",
       "    <tr>\n",
       "      <th>3</th>\n",
       "      <td>27</td>\n",
       "      <td>33</td>\n",
       "      <td>2</td>\n",
       "      <td>1</td>\n",
       "      <td>1</td>\n",
       "      <td>6</td>\n",
       "      <td>2</td>\n",
       "      <td>3</td>\n",
       "      <td>1</td>\n",
       "    </tr>\n",
       "    <tr>\n",
       "      <th>4</th>\n",
       "      <td>51</td>\n",
       "      <td>55</td>\n",
       "      <td>2</td>\n",
       "      <td>1</td>\n",
       "      <td>3</td>\n",
       "      <td>8</td>\n",
       "      <td>10</td>\n",
       "      <td>2</td>\n",
       "      <td>1</td>\n",
       "    </tr>\n",
       "    <tr>\n",
       "      <th>...</th>\n",
       "      <td>...</td>\n",
       "      <td>...</td>\n",
       "      <td>...</td>\n",
       "      <td>...</td>\n",
       "      <td>...</td>\n",
       "      <td>...</td>\n",
       "      <td>...</td>\n",
       "      <td>...</td>\n",
       "      <td>...</td>\n",
       "    </tr>\n",
       "    <tr>\n",
       "      <th>999885</th>\n",
       "      <td>143</td>\n",
       "      <td>27</td>\n",
       "      <td>2</td>\n",
       "      <td>1</td>\n",
       "      <td>1</td>\n",
       "      <td>8</td>\n",
       "      <td>10</td>\n",
       "      <td>2</td>\n",
       "      <td>1</td>\n",
       "    </tr>\n",
       "    <tr>\n",
       "      <th>999886</th>\n",
       "      <td>79</td>\n",
       "      <td>57</td>\n",
       "      <td>2</td>\n",
       "      <td>1</td>\n",
       "      <td>3</td>\n",
       "      <td>10</td>\n",
       "      <td>5</td>\n",
       "      <td>1</td>\n",
       "      <td>1</td>\n",
       "    </tr>\n",
       "    <tr>\n",
       "      <th>999887</th>\n",
       "      <td>62</td>\n",
       "      <td>125</td>\n",
       "      <td>3</td>\n",
       "      <td>1</td>\n",
       "      <td>2</td>\n",
       "      <td>7</td>\n",
       "      <td>4</td>\n",
       "      <td>2</td>\n",
       "      <td>1</td>\n",
       "    </tr>\n",
       "    <tr>\n",
       "      <th>999888</th>\n",
       "      <td>53</td>\n",
       "      <td>126</td>\n",
       "      <td>2</td>\n",
       "      <td>1</td>\n",
       "      <td>2</td>\n",
       "      <td>5</td>\n",
       "      <td>4</td>\n",
       "      <td>1</td>\n",
       "      <td>0</td>\n",
       "    </tr>\n",
       "    <tr>\n",
       "      <th>999889</th>\n",
       "      <td>144</td>\n",
       "      <td>55</td>\n",
       "      <td>2</td>\n",
       "      <td>1</td>\n",
       "      <td>2</td>\n",
       "      <td>1</td>\n",
       "      <td>9</td>\n",
       "      <td>2</td>\n",
       "      <td>1</td>\n",
       "    </tr>\n",
       "  </tbody>\n",
       "</table>\n",
       "<p>998462 rows × 9 columns</p>\n",
       "</div>"
      ],
      "text/plain": [
       "        origin_int  destination_int capacidad denied booking  \\\n",
       "0               12              125         2      1       3   \n",
       "1               79              143         2      1       3   \n",
       "2              122              116         3      1       1   \n",
       "3               27               33         2      1       1   \n",
       "4               51               55         2      1       3   \n",
       "...            ...              ...       ...    ...     ...   \n",
       "999885         143               27         2      1       1   \n",
       "999886          79               57         2      1       3   \n",
       "999887          62              125         3      1       2   \n",
       "999888          53              126         2      1       2   \n",
       "999889         144               55         2      1       2   \n",
       "\n",
       "       revenues_usd_discr  mes horario  Labels  \n",
       "0                       6   11       1       1  \n",
       "1                       2    5       3       0  \n",
       "2                       8    5       1       1  \n",
       "3                       6    2       3       1  \n",
       "4                       8   10       2       1  \n",
       "...                   ...  ...     ...     ...  \n",
       "999885                  8   10       2       1  \n",
       "999886                 10    5       1       1  \n",
       "999887                  7    4       2       1  \n",
       "999888                  5    4       1       0  \n",
       "999889                  1    9       2       1  \n",
       "\n",
       "[998462 rows x 9 columns]"
      ]
     },
     "execution_count": 12,
     "metadata": {},
     "output_type": "execute_result"
    }
   ],
   "source": [
    "df"
   ]
  },
  {
   "cell_type": "code",
   "execution_count": 14,
   "id": "9eb3a3ee",
   "metadata": {
    "scrolled": false
   },
   "outputs": [
    {
     "name": "stdout",
     "output_type": "stream",
     "text": [
      "Numero iteraciónes:  100\n",
      "F1-score modelo para training:  0.7204285181397028 +- 7.872924327475411e-05\n",
      "F1-score modelo para test:  0.7204049820661603 +- 0.007193156854304321\n"
     ]
    }
   ],
   "source": [
    "#Crear un objeto de KFold cross validation\n",
    "\n",
    "#for k in range (2,100, 5):\n",
    "kf = KFold(n_splits = 100, shuffle = True, random_state = 0)\n",
    "\n",
    "#Crear arreglos para guardar los errores de cada fold (tanto para entrenamiento como test).\n",
    "F1Train = np.zeros(100)\n",
    "F1Test = np.zeros(100)\n",
    "\n",
    "#Crear el objeto de Naive Bayes que estime correspondiente, con el alpha deseado\n",
    "NB = MultinomialNB()\n",
    "i=0\n",
    "\n",
    "#Aplicar K-fold cross validation\n",
    "for train_index, test_index in kf.split(df):\n",
    "        #extraer los datos de entrenamiento y test\n",
    "        trainData = df.iloc[train_index, :]\n",
    "        testData = df.iloc[test_index, :]\n",
    "\n",
    "        trainLabel = target.iloc[train_index]\n",
    "        testLabel = target.iloc[test_index]\n",
    "\n",
    "        #Entrenar el modelo usando los datos de entrenamiento\n",
    "        NB = NB.fit(trainData, trainLabel)\n",
    "\n",
    "        #Predecir los valores de TrainData y calcule su error\n",
    "        prediccion = NB.predict(trainData)\n",
    "        F1Train[i] = mt.f1_score(trainLabel, prediccion, pos_label = 0)\n",
    "    \n",
    "        #Prediga los valores de testData y calcule su error\n",
    "        prediccion = NB.predict(testData)\n",
    "        F1Test[i] = mt.f1_score(testLabel, prediccion, pos_label = 0)\n",
    "\n",
    "        i+=1\n",
    "\n",
    "print(\"Numero iteraciónes: \", i)\n",
    "print(\"F1-score modelo para training: \", F1Train.mean(), \"+-\", F1Train.std())   \n",
    "print(\"F1-score modelo para test: \", F1Test.mean(), \"+-\", F1Test.std())  "
   ]
  },
  {
   "cell_type": "code",
   "execution_count": 9,
   "id": "bceacdb4",
   "metadata": {},
   "outputs": [
    {
     "name": "stdout",
     "output_type": "stream",
     "text": [
      "F1-score modelo para training:  0.7919559056332888 +- 3.5307737062786766e-05\n",
      "F1-score modelo para test:  0.7919457801248194 +- 0.0034956845297918256\n"
     ]
    }
   ],
   "source": [
    "#Muestre la media y desviación estandar de cada error \n",
    "print(\"F1-score modelo para training: \", F1Train.mean(), \"+-\", F1Train.std())   \n",
    "print(\"F1-score modelo para test: \", F1Test.mean(), \"+-\", F1Test.std())   "
   ]
  },
  {
   "cell_type": "code",
   "execution_count": 16,
   "id": "a196cd32",
   "metadata": {},
   "outputs": [
    {
     "ename": "TypeError",
     "evalue": "The x variable is categorical, but one of ['numeric', 'datetime'] is required",
     "output_type": "error",
     "traceback": [
      "\u001b[0;31m---------------------------------------------------------------------------\u001b[0m",
      "\u001b[0;31mTypeError\u001b[0m                                 Traceback (most recent call last)",
      "\u001b[0;32m/tmp/ipykernel_9429/3701455887.py\u001b[0m in \u001b[0;36m<module>\u001b[0;34m\u001b[0m\n\u001b[0;32m----> 1\u001b[0;31m \u001b[0msns\u001b[0m\u001b[0;34m.\u001b[0m\u001b[0mdisplot\u001b[0m\u001b[0;34m(\u001b[0m\u001b[0mdf\u001b[0m\u001b[0;34m,\u001b[0m \u001b[0mx\u001b[0m\u001b[0;34m=\u001b[0m\u001b[0;34m'booking'\u001b[0m\u001b[0;34m,\u001b[0m \u001b[0mhue\u001b[0m \u001b[0;34m=\u001b[0m\u001b[0;34m\"Labels\"\u001b[0m\u001b[0;34m,\u001b[0m \u001b[0mkind\u001b[0m \u001b[0;34m=\u001b[0m \u001b[0;34m'kde'\u001b[0m\u001b[0;34m)\u001b[0m\u001b[0;34m\u001b[0m\u001b[0;34m\u001b[0m\u001b[0m\n\u001b[0m",
      "\u001b[0;32m~/anaconda3/lib/python3.9/site-packages/seaborn/distributions.py\u001b[0m in \u001b[0;36mdisplot\u001b[0;34m(data, x, y, hue, row, col, weights, kind, rug, rug_kws, log_scale, legend, palette, hue_order, hue_norm, color, col_wrap, row_order, col_order, height, aspect, facet_kws, **kwargs)\u001b[0m\n\u001b[1;32m   2240\u001b[0m     \u001b[0;32melse\u001b[0m\u001b[0;34m:\u001b[0m\u001b[0;34m\u001b[0m\u001b[0;34m\u001b[0m\u001b[0m\n\u001b[1;32m   2241\u001b[0m         \u001b[0mallowed_types\u001b[0m \u001b[0;34m=\u001b[0m \u001b[0;32mNone\u001b[0m\u001b[0;34m\u001b[0m\u001b[0;34m\u001b[0m\u001b[0m\n\u001b[0;32m-> 2242\u001b[0;31m     \u001b[0mp\u001b[0m\u001b[0;34m.\u001b[0m\u001b[0m_attach\u001b[0m\u001b[0;34m(\u001b[0m\u001b[0mg\u001b[0m\u001b[0;34m,\u001b[0m \u001b[0mallowed_types\u001b[0m\u001b[0;34m=\u001b[0m\u001b[0mallowed_types\u001b[0m\u001b[0;34m,\u001b[0m \u001b[0mlog_scale\u001b[0m\u001b[0;34m=\u001b[0m\u001b[0mlog_scale\u001b[0m\u001b[0;34m)\u001b[0m\u001b[0;34m\u001b[0m\u001b[0;34m\u001b[0m\u001b[0m\n\u001b[0m\u001b[1;32m   2243\u001b[0m \u001b[0;34m\u001b[0m\u001b[0m\n\u001b[1;32m   2244\u001b[0m     \u001b[0;31m# Check for a specification that lacks x/y data and return early\u001b[0m\u001b[0;34m\u001b[0m\u001b[0;34m\u001b[0m\u001b[0m\n",
      "\u001b[0;32m~/anaconda3/lib/python3.9/site-packages/seaborn/_core.py\u001b[0m in \u001b[0;36m_attach\u001b[0;34m(self, obj, allowed_types, log_scale)\u001b[0m\n\u001b[1;32m   1123\u001b[0m                     \u001b[0;34mf\"{allowed_types} is required\"\u001b[0m\u001b[0;34m\u001b[0m\u001b[0;34m\u001b[0m\u001b[0m\n\u001b[1;32m   1124\u001b[0m                 )\n\u001b[0;32m-> 1125\u001b[0;31m                 \u001b[0;32mraise\u001b[0m \u001b[0mTypeError\u001b[0m\u001b[0;34m(\u001b[0m\u001b[0merr\u001b[0m\u001b[0;34m)\u001b[0m\u001b[0;34m\u001b[0m\u001b[0;34m\u001b[0m\u001b[0m\n\u001b[0m\u001b[1;32m   1126\u001b[0m \u001b[0;34m\u001b[0m\u001b[0m\n\u001b[1;32m   1127\u001b[0m             \u001b[0;31m# Register with the matplotlib unit conversion machinery\u001b[0m\u001b[0;34m\u001b[0m\u001b[0;34m\u001b[0m\u001b[0m\n",
      "\u001b[0;31mTypeError\u001b[0m: The x variable is categorical, but one of ['numeric', 'datetime'] is required"
     ]
    },
    {
     "data": {
      "image/png": "[encoded data removed]",
      "text/plain": [
       "<Figure size 360x360 with 1 Axes>"
      ]
     },
     "metadata": {
      "needs_background": "light"
     },
     "output_type": "display_data"
    }
   ],
   "source": [
    "sns.displot(df, x='booking', hue =\"Labels\", kind = 'kde')"
   ]
  },
  {
   "cell_type": "code",
   "execution_count": null,
   "id": "9db80041",
   "metadata": {},
   "outputs": [],
   "source": []
  },
  {
   "cell_type": "code",
   "execution_count": 17,
   "id": "e1773a03",
   "metadata": {},
   "outputs": [],
   "source": [
    "from sklearn import datasets\n",
    "from sklearn.model_selection import train_test_split\n",
    "\n",
    "X_train, X_test, y_train, y_test = train_test_split(df,target,test_size=0.33, random_state=42)\n"
   ]
  },
  {
   "cell_type": "code",
   "execution_count": 19,
   "id": "251e64f9",
   "metadata": {},
   "outputs": [
    {
     "name": "stdout",
     "output_type": "stream",
     "text": [
      "Resultado de la predicción:\n",
      " [1 1 0 ... 0 0 0]\n",
      "Resultado original:\n",
      " 783891    1\n",
      "245557    1\n",
      "586246    0\n",
      "442245    1\n",
      "513415    0\n",
      "         ..\n",
      "168460    1\n",
      "418099    0\n",
      "759751    0\n",
      "627705    0\n",
      "306926    0\n",
      "Name: Labels, Length: 329493, dtype: int64\n",
      "Resultado de la predicción:\n",
      " [[5.53798492e-06 9.99994462e-01]\n",
      " [4.09865856e-04 9.99590134e-01]\n",
      " [9.89587229e-01 1.04127710e-02]\n",
      " ...\n",
      " [9.75007672e-01 2.49923282e-02]\n",
      " [5.62355114e-01 4.37644886e-01]\n",
      " [8.00795804e-01 1.99204196e-01]]\n"
     ]
    }
   ],
   "source": [
    "#Creando un objeto Naive Bayes con las condiciones iniciales\n",
    "from sklearn.naive_bayes import GaussianNB\n",
    "NB = MultinomialNB()\n",
    "NB = NB.fit(X_train,y_train)\n",
    "\n",
    "#Aplicando el modelo a otros datos\n",
    "resultado=NB.predict(X_test)\n",
    "print(\"Resultado de la predicción:\\n\",resultado)\n",
    "print(\"Resultado original:\\n\",y_test)\n",
    "\n",
    "#Aplicando el modelo a otros datos\n",
    "resultados=NB.predict_proba(X_test)\n",
    "print(\"Resultado de la predicción:\\n\",resultados)"
   ]
  },
  {
   "cell_type": "code",
   "execution_count": 20,
   "id": "1edacbb2",
   "metadata": {},
   "outputs": [
    {
     "data": {
      "text/plain": [
       "0.7190449438202247"
      ]
     },
     "execution_count": 20,
     "metadata": {},
     "output_type": "execute_result"
    }
   ],
   "source": [
    "mt.f1_score(y_test, resultado, pos_label = 0)"
   ]
  },
  {
   "cell_type": "code",
   "execution_count": 23,
   "id": "65d54969",
   "metadata": {},
   "outputs": [
    {
     "name": "stdout",
     "output_type": "stream",
     "text": [
      "Límites [2 1 0]\n"
     ]
    },
    {
     "data": {
      "image/png": "[encoded data removed]",
      "text/plain": [
       "<Figure size 640x480 with 1 Axes>"
      ]
     },
     "metadata": {},
     "output_type": "display_data"
    },
    {
     "name": "stdout",
     "output_type": "stream",
     "text": [
      "\n",
      "Valor del AUC: 0.7806675145826938\n"
     ]
    }
   ],
   "source": [
    "#Calculando los tpr and fpr\n",
    "from sklearn import metrics as mt\n",
    "fpr, tpr, thresholds = mt.roc_curve(y_test, resultado, pos_label = 1)\n",
    "print(\"Límites\",thresholds)\n",
    "\n",
    "tempDF=pd.DataFrame(zip(fpr,tpr),columns=[\"fpr\",\"tpr\"])\n",
    "#Curva ROC\n",
    "print(ggplot(tempDF)+aes(x=\"fpr\",y=\"tpr\")+geom_line(color=\"red\",size=2)+\n",
    "    annotate(\"segment\",x=0,y=0,xend=1,yend=1,color=\"blue\")+\n",
    "    theme_bw()\n",
    ")\n",
    "\n",
    "#Valor del AUC\n",
    "print(\"Valor del AUC:\",mt.auc(fpr,tpr))"
   ]
  },
  {
   "cell_type": "code",
   "execution_count": null,
   "id": "c74d31ee",
   "metadata": {},
   "outputs": [],
   "source": []
  }
 ],
 "metadata": {
  "kernelspec": {
   "display_name": "Python 3 (ipykernel)",
   "language": "python",
   "name": "python3"
  },
  "language_info": {
   "codemirror_mode": {
    "name": "ipython",
    "version": 3
   },
   "file_extension": ".py",
   "mimetype": "text/x-python",
   "name": "python",
   "nbconvert_exporter": "python",
   "pygments_lexer": "ipython3",
   "version": "3.9.7"
  }
 },
 "nbformat": 4,
 "nbformat_minor": 5
}
